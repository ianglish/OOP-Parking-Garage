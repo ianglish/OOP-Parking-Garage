{
 "cells": [
  {
   "cell_type": "markdown",
   "metadata": {},
   "source": [
    "# Parking Garage Project\n",
    "\n",
    "Your assignment for today is to create a parking garage class to get more familiar with Object Oriented Programming(OOP). \n",
    "\n",
    "Your parking gargage class should have the following methods:\n",
    "- takeTicket\n",
    "   - This should decrease the amount of tickets available by 1\n",
    "   - This should decrease the amount of parkingSpaces available by 1\n",
    "- payForParking\n",
    "   - Display an input that waits for an amount from the user and store it in a variable\n",
    "   - If the payment variable is not empty then ->  display a message to the user that their ticket has been paid and they have 15mins to leave\n",
    "   - This should update the \"currentTicket\" dictionary key \"paid\" to True\n",
    "-leaveGarage\n",
    "   - If the ticket has been paid, display a message of \"Thank You, have a nice day\"\n",
    "   - If the ticket has not been paid, display an input prompt for payment\n",
    "      - Once paid, display message \"Thank you, have a nice day!\"\n",
    "   - Update parkingSpaces list to increase by 1\n",
    "   - Update tickets list to increase by 1\n",
    "\n",
    "You will need a few attributes as well:\n",
    "- tickets -> list\n",
    "- parkingSpaces -> list\n",
    "- currentTicket -> dictionary"
   ]
  },
  {
   "cell_type": "code",
   "execution_count": 3,
   "metadata": {},
   "outputs": [
    {
     "name": "stdin",
     "output_type": "stream",
     "text": [
      "\n",
      "What would you like to do?:\n",
      "\tPark\n",
      "\tPay\n",
      "\tQuit\n",
      " park\n"
     ]
    },
    {
     "name": "stdout",
     "output_type": "stream",
     "text": [
      "Your ticket number is 1\n",
      "This is the new dictionary list item:   {1: 'paid no'}\n",
      "Number of open parking spaces after driver parks:   4\n",
      "This is the new list:   [{1: 'paid no'}]\n"
     ]
    },
    {
     "name": "stdin",
     "output_type": "stream",
     "text": [
      "\n",
      "What would you like to do?:\n",
      "\tPark\n",
      "\tPay\n",
      "\tQuit\n",
      " park\n"
     ]
    },
    {
     "name": "stdout",
     "output_type": "stream",
     "text": [
      "Your ticket number is 2\n",
      "This is the new dictionary list item:   {2: 'paid no'}\n",
      "Number of open parking spaces after driver parks:   3\n",
      "This is the new list:   [{1: 'paid no'}, {2: 'paid no'}]\n"
     ]
    },
    {
     "name": "stdin",
     "output_type": "stream",
     "text": [
      "\n",
      "What would you like to do?:\n",
      "\tPark\n",
      "\tPay\n",
      "\tQuit\n",
      " park\n"
     ]
    },
    {
     "name": "stdout",
     "output_type": "stream",
     "text": [
      "Your ticket number is 3\n",
      "This is the new dictionary list item:   {3: 'paid no'}\n",
      "Number of open parking spaces after driver parks:   2\n",
      "This is the new list:   [{1: 'paid no'}, {2: 'paid no'}, {3: 'paid no'}]\n"
     ]
    },
    {
     "name": "stdin",
     "output_type": "stream",
     "text": [
      "\n",
      "What would you like to do?:\n",
      "\tPark\n",
      "\tPay\n",
      "\tQuit\n",
      " park\n"
     ]
    },
    {
     "name": "stdout",
     "output_type": "stream",
     "text": [
      "Your ticket number is 4\n",
      "This is the new dictionary list item:   {4: 'paid no'}\n",
      "Number of open parking spaces after driver parks:   1\n",
      "This is the new list:   [{1: 'paid no'}, {2: 'paid no'}, {3: 'paid no'}, {4: 'paid no'}]\n"
     ]
    },
    {
     "name": "stdin",
     "output_type": "stream",
     "text": [
      "\n",
      "What would you like to do?:\n",
      "\tPark\n",
      "\tPay\n",
      "\tQuit\n",
      " park\n"
     ]
    },
    {
     "name": "stdout",
     "output_type": "stream",
     "text": [
      "Your ticket number is 5\n",
      "This is the new dictionary list item:   {5: 'paid no'}\n",
      "Number of open parking spaces after driver parks:   0\n",
      "This is the new list:   [{1: 'paid no'}, {2: 'paid no'}, {3: 'paid no'}, {4: 'paid no'}, {5: 'paid no'}]\n"
     ]
    },
    {
     "name": "stdin",
     "output_type": "stream",
     "text": [
      "\n",
      "What would you like to do?:\n",
      "\tPark\n",
      "\tPay\n",
      "\tQuit\n",
      " park\n"
     ]
    },
    {
     "name": "stdout",
     "output_type": "stream",
     "text": [
      "No spaces left, sorry!\n"
     ]
    },
    {
     "name": "stdin",
     "output_type": "stream",
     "text": [
      "\n",
      "What would you like to do?:\n",
      "\tPark\n",
      "\tPay\n",
      "\tQuit\n",
      " pay\n",
      "What is your ticket number? \n",
      " 2\n",
      "Please enter $15 to pay parking fee  15\n"
     ]
    },
    {
     "name": "stdout",
     "output_type": "stream",
     "text": [
      "This is the ticket list before payment:   [{1: 'paid no'}, {2: 'paid no'}, {3: 'paid no'}, {4: 'paid no'}, {5: 'paid no'}]\n",
      "This is the ticket list after removing old list dictionary:   [{1: 'paid no'}, {3: 'paid no'}, {4: 'paid no'}, {5: 'paid no'}]\n",
      "This is the ticket list after removing new list dictionary:   [{1: 'paid no'}, {3: 'paid no'}, {4: 'paid no'}, {5: 'paid no'}, {2: 'paid yes'}]\n",
      "Number of open parking spaces after driver leaves:   1\n"
     ]
    },
    {
     "name": "stdin",
     "output_type": "stream",
     "text": [
      "\n",
      "What would you like to do?:\n",
      "\tPark\n",
      "\tPay\n",
      "\tQuit\n",
      " pay\n",
      "What is your ticket number? \n",
      " 1\n",
      "Please enter $15 to pay parking fee  15\n"
     ]
    },
    {
     "name": "stdout",
     "output_type": "stream",
     "text": [
      "This is the ticket list before payment:   [{1: 'paid no'}, {3: 'paid no'}, {4: 'paid no'}, {5: 'paid no'}, {2: 'paid yes'}]\n",
      "This is the ticket list after removing old list dictionary:   [{3: 'paid no'}, {4: 'paid no'}, {5: 'paid no'}, {2: 'paid yes'}]\n",
      "This is the ticket list after removing new list dictionary:   [{3: 'paid no'}, {4: 'paid no'}, {5: 'paid no'}, {2: 'paid yes'}, {1: 'paid yes'}]\n",
      "Number of open parking spaces after driver leaves:   2\n"
     ]
    },
    {
     "name": "stdin",
     "output_type": "stream",
     "text": [
      "\n",
      "What would you like to do?:\n",
      "\tPark\n",
      "\tPay\n",
      "\tQuit\n",
      " pay\n",
      "What is your ticket number? \n",
      " 4\n",
      "Please enter $15 to pay parking fee  15\n"
     ]
    },
    {
     "name": "stdout",
     "output_type": "stream",
     "text": [
      "This is the ticket list before payment:   [{3: 'paid no'}, {4: 'paid no'}, {5: 'paid no'}, {2: 'paid yes'}, {1: 'paid yes'}]\n",
      "This is the ticket list after removing old list dictionary:   [{3: 'paid no'}, {5: 'paid no'}, {2: 'paid yes'}, {1: 'paid yes'}]\n",
      "This is the ticket list after removing new list dictionary:   [{3: 'paid no'}, {5: 'paid no'}, {2: 'paid yes'}, {1: 'paid yes'}, {4: 'paid yes'}]\n",
      "Number of open parking spaces after driver leaves:   3\n"
     ]
    },
    {
     "name": "stdin",
     "output_type": "stream",
     "text": [
      "\n",
      "What would you like to do?:\n",
      "\tPark\n",
      "\tPay\n",
      "\tQuit\n",
      " park\n"
     ]
    },
    {
     "name": "stdout",
     "output_type": "stream",
     "text": [
      "Your ticket number is 6\n",
      "This is the new dictionary list item:   {6: 'paid no'}\n",
      "Number of open parking spaces after driver parks:   2\n",
      "This is the new list:   [{3: 'paid no'}, {5: 'paid no'}, {2: 'paid yes'}, {1: 'paid yes'}, {4: 'paid yes'}, {6: 'paid no'}]\n"
     ]
    },
    {
     "name": "stdin",
     "output_type": "stream",
     "text": [
      "\n",
      "What would you like to do?:\n",
      "\tPark\n",
      "\tPay\n",
      "\tQuit\n",
      " park\n"
     ]
    },
    {
     "name": "stdout",
     "output_type": "stream",
     "text": [
      "Your ticket number is 7\n",
      "This is the new dictionary list item:   {7: 'paid no'}\n",
      "Number of open parking spaces after driver parks:   1\n",
      "This is the new list:   [{3: 'paid no'}, {5: 'paid no'}, {2: 'paid yes'}, {1: 'paid yes'}, {4: 'paid yes'}, {6: 'paid no'}, {7: 'paid no'}]\n"
     ]
    },
    {
     "name": "stdin",
     "output_type": "stream",
     "text": [
      "\n",
      "What would you like to do?:\n",
      "\tPark\n",
      "\tPay\n",
      "\tQuit\n",
      " quit\n"
     ]
    }
   ],
   "source": [
    "# Your Code will go here\n",
    "# 1. defining class\n",
    "class ParkingGarage():\n",
    "    \"\"\"This class models a parking garage.\"\"\"\n",
    "    def __init__(self, openSpaceCount, ticket_num = 0, ticketList = []):\n",
    "        self.openSpaceCount = openSpaceCount\n",
    "        self.ticket_num = ticket_num\n",
    "        self.ticketList = ticketList\n",
    "\n",
    "    def takeTicket(self):\n",
    "        if self.openSpaceCount == 0:\n",
    "            print(\"No spaces left, sorry!\")\n",
    "        else:\n",
    "            self.ticket_num += 1\n",
    "            self.ticketDict = {self.ticket_num : \"paid no\"}\n",
    "            self.ticketList.append(self.ticketDict)\n",
    "            self.openSpaceCount -= 1\n",
    "            print(f\"Your ticket number is {self.ticket_num}\")\n",
    "            print(\"This is the new dictionary list item:  \",self.ticketDict)\n",
    "            print(\"Number of open parking spaces after driver parks:  \",self.openSpaceCount)\n",
    "            print(\"This is the new list:  \",self.ticketList)\n",
    "\n",
    "    def payTicket(self):\n",
    "        taken_Ticket_Num = int(input(\"What is your ticket number? \\n\"))\n",
    "        payment = int(input(\"Please enter $15 to pay parking fee \"))\n",
    "        if payment != 15:\n",
    "          print(\"Invalid entry.  Please try again.\")\n",
    "        else:\n",
    "          print(\"This is the ticket list before payment:  \",self.ticketList)\n",
    "          self.ticketList.remove({taken_Ticket_Num:\"paid no\"})\n",
    "          print(\"This is the ticket list after removing old list dictionary:  \",self.ticketList)\n",
    "          self.ticketList.append({taken_Ticket_Num:\"paid yes\"})\n",
    "          print(\"This is the ticket list after removing new list dictionary:  \",self.ticketList)\n",
    "          self.openSpaceCount += 1\n",
    "          print(\"Number of open parking spaces after driver leaves:  \",self.openSpaceCount)\n",
    "\n",
    "# 2. instantiating an object from the class\n",
    "iansGarage = ParkingGarage(5)\n",
    "\n",
    "# 3. main program\n",
    "def letsPark():\n",
    "    while True:\n",
    "        greeting = input(\"\\nWhat would you like to do?:\\n\\tPark\\n\\tPay\\n\\tQuit\\n\")\n",
    "        if greeting.lower() == 'park':\n",
    "            iansGarage.takeTicket()\n",
    "        elif greeting.lower() == 'pay':\n",
    "            iansGarage.payTicket()\n",
    "        elif greeting.lower() == 'quit':\n",
    "            break\n",
    "        else:\n",
    "            print(\"That is not a valid option!\")\n",
    "\n",
    "# 4. running the program\n",
    "letsPark()\n",
    "\n"
   ]
  }
 ],
 "metadata": {
  "kernelspec": {
   "display_name": "Python 3 (ipykernel)",
   "language": "python",
   "name": "python3"
  },
  "language_info": {
   "codemirror_mode": {
    "name": "ipython",
    "version": 3
   },
   "file_extension": ".py",
   "mimetype": "text/x-python",
   "name": "python",
   "nbconvert_exporter": "python",
   "pygments_lexer": "ipython3",
   "version": "3.11.7"
  }
 },
 "nbformat": 4,
 "nbformat_minor": 4
}
